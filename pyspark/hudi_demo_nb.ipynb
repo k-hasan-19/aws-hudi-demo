{
 "cells": [
  {
   "cell_type": "code",
   "execution_count": 1,
   "metadata": {},
   "outputs": [
    {
     "data": {
      "text/html": [
       "Current session configs: <tt>{'conf': {'spark.jars': 'hdfs:///apps/hudi/lib/hudi-spark-bundle.jar,hdfs:///apps/hudi/lib/spark-avro.jar', 'spark.serializer': 'org.apache.spark.serializer.KryoSerializer', 'spark.sql.hive.convertMetastoreParquet': 'false'}, 'kind': 'pyspark'}</tt><br>"
      ],
      "text/plain": [
       "<IPython.core.display.HTML object>"
      ]
     },
     "metadata": {},
     "output_type": "display_data"
    },
    {
     "data": {
      "text/html": [
       "No active sessions."
      ],
      "text/plain": [
       "<IPython.core.display.HTML object>"
      ]
     },
     "metadata": {},
     "output_type": "display_data"
    }
   ],
   "source": [
    "%%configure\n",
    "{ \"conf\": {\n",
    "            \"spark.jars\":\"hdfs:///apps/hudi/lib/hudi-spark-bundle.jar,hdfs:///apps/hudi/lib/spark-avro.jar\",\n",
    "            \"spark.serializer\":\"org.apache.spark.serializer.KryoSerializer\",\n",
    "            \"spark.sql.hive.convertMetastoreParquet\":\"false\"\n",
    "          }}"
   ]
  },
  {
   "cell_type": "code",
   "execution_count": 2,
   "metadata": {},
   "outputs": [
    {
     "data": {
      "application/vnd.jupyter.widget-view+json": {
       "model_id": "a52be160c18d42b49b81e08f053efea5",
       "version_major": 2,
       "version_minor": 0
      },
      "text/plain": [
       "VBox()"
      ]
     },
     "metadata": {},
     "output_type": "display_data"
    },
    {
     "name": "stdout",
     "output_type": "stream",
     "text": [
      "Starting Spark application\n"
     ]
    },
    {
     "data": {
      "text/html": [
       "<table>\n",
       "<tr><th>ID</th><th>YARN Application ID</th><th>Kind</th><th>State</th><th>Spark UI</th><th>Driver log</th><th>Current session?</th></tr><tr><td>2</td><td>application_1605639433408_0007</td><td>pyspark</td><td>idle</td><td></td><td></td><td>✔</td></tr></table>"
      ],
      "text/plain": [
       "<IPython.core.display.HTML object>"
      ]
     },
     "metadata": {},
     "output_type": "display_data"
    },
    {
     "data": {
      "application/vnd.jupyter.widget-view+json": {
       "model_id": "",
       "version_major": 2,
       "version_minor": 0
      },
      "text/plain": [
       "FloatProgress(value=0.0, bar_style='info', description='Progress:', layout=Layout(height='25px', width='50%'),…"
      ]
     },
     "metadata": {},
     "output_type": "display_data"
    },
    {
     "name": "stdout",
     "output_type": "stream",
     "text": [
      "SparkSession available as 'spark'.\n"
     ]
    },
    {
     "data": {
      "application/vnd.jupyter.widget-view+json": {
       "model_id": "",
       "version_major": 2,
       "version_minor": 0
      },
      "text/plain": [
       "FloatProgress(value=0.0, bar_style='info', description='Progress:', layout=Layout(height='25px', width='50%'),…"
      ]
     },
     "metadata": {},
     "output_type": "display_data"
    },
    {
     "name": "stderr",
     "output_type": "stream",
     "text": [
      "An error was encountered:\n",
      "No module named 'org'\n",
      "Traceback (most recent call last):\n",
      "ModuleNotFoundError: No module named 'org'\n",
      "\n"
     ]
    }
   ],
   "source": [
    "import org.apache.spark.sql.SaveMode\n",
    "import org.apache.spark.sql.functions._\n",
    "import org.apache.hudi.DataSourceWriteOptions\n",
    "import org.apache.hudi.config.HoodieWriteConfig\n",
    "import org.apache.hudi.hive.MultiPartKeysValueExtractor"
   ]
  },
  {
   "cell_type": "code",
   "execution_count": 3,
   "metadata": {},
   "outputs": [
    {
     "data": {
      "application/vnd.jupyter.widget-view+json": {
       "model_id": "9ae6d654bfd4447aa4856133b1f4aa66",
       "version_major": 2,
       "version_minor": 0
      },
      "text/plain": [
       "VBox()"
      ]
     },
     "metadata": {},
     "output_type": "display_data"
    },
    {
     "data": {
      "application/vnd.jupyter.widget-view+json": {
       "model_id": "",
       "version_major": 2,
       "version_minor": 0
      },
      "text/plain": [
       "FloatProgress(value=0.0, bar_style='info', description='Progress:', layout=Layout(height='25px', width='50%'),…"
      ]
     },
     "metadata": {},
     "output_type": "display_data"
    },
    {
     "name": "stdout",
     "output_type": "stream",
     "text": [
      "+-------------------+--------------------+------------------+----------------------+--------------------+--------------------+-------+----------+--------+-------------+-----------+---------+--------+------+---+\n",
      "|_hoodie_commit_time|_hoodie_commit_seqno|_hoodie_record_key|_hoodie_partition_path|   _hoodie_file_name|     dms_received_ts|tran_id| tran_date|store_id|   store_city|store_state|item_code|quantity| total| Op|\n",
      "+-------------------+--------------------+------------------+----------------------+--------------------+--------------------+-------+----------+--------+-------------+-----------+---------+--------+------+---+\n",
      "|     20201117201857|  20201117201857_0_1|                15|            2019-03-16|c85559e3-8ba7-4ec...|2020-11-17 20:17:...|     15|2019-03-16|       7|      CHICAGO|         IL|   XXXXXX|      17|126.25|  I|\n",
      "|     20201117201857|  20201117201857_1_2|                 1|            2019-03-17|e8423d98-be0e-4a7...|2020-11-17 20:17:...|      1|2019-03-17|       1|  SPRINGFIELD|         IL|   XXXXXX|       5|106.25|  U|\n",
      "|     20201117201857|  20201117201857_1_3|                 4|            2019-03-17|e8423d98-be0e-4a7...|2020-11-17 20:17:...|      4|2019-03-17|       4|SAN FRANCISCO|         CA|   XXXXXX|       8|136.25|  I|\n",
      "|     20201117235041|  20201117235041_0_2|                 7|            2019-03-14|59549b05-8baf-4ac...|2020-11-17 23:47:...|      7|2019-03-14|       2|     NEW YORK|         NY|   XXXXXX|      11|166.25|  I|\n",
      "|     20201117235041|  20201117235041_1_1|                 6|            2019-03-18|8f1af2ad-32a4-44f...|2020-11-17 23:47:...|      6|2019-03-18|       1|      CHICAGO|         IL|   XXXXXX|      10|156.25|  I|\n",
      "+-------------------+--------------------+------------------+----------------------+--------------------+--------------------+-------+----------+--------+-------------+-----------+---------+--------+------+---+"
     ]
    }
   ],
   "source": [
    "snapshotQueryDF = spark.read.format('org.apache.hudi').load('s3://md-labs-hudi-demo-data-bucket/hudi/retail_transactions' + '/*/*')\n",
    "    \n",
    "snapshotQueryDF.show()"
   ]
  },
  {
   "cell_type": "code",
   "execution_count": 4,
   "metadata": {},
   "outputs": [
    {
     "data": {
      "application/vnd.jupyter.widget-view+json": {
       "model_id": "ff5d7a182f6b4d3a9eb69691d8dee456",
       "version_major": 2,
       "version_minor": 0
      },
      "text/plain": [
       "VBox()"
      ]
     },
     "metadata": {},
     "output_type": "display_data"
    },
    {
     "data": {
      "application/vnd.jupyter.widget-view+json": {
       "model_id": "",
       "version_major": 2,
       "version_minor": 0
      },
      "text/plain": [
       "FloatProgress(value=0.0, bar_style='info', description='Progress:', layout=Layout(height='25px', width='50%'),…"
      ]
     },
     "metadata": {},
     "output_type": "display_data"
    },
    {
     "name": "stdout",
     "output_type": "stream",
     "text": [
      "+-------------------+--------------------+------------------+----------------------+--------------------+--------------------+-------+----------+--------+----------+-----------+---------+--------+------+---+\n",
      "|_hoodie_commit_time|_hoodie_commit_seqno|_hoodie_record_key|_hoodie_partition_path|   _hoodie_file_name|     dms_received_ts|tran_id| tran_date|store_id|store_city|store_state|item_code|quantity| total| Op|\n",
      "+-------------------+--------------------+------------------+----------------------+--------------------+--------------------+-------+----------+--------+----------+-----------+---------+--------+------+---+\n",
      "|     20201117235041|  20201117235041_0_2|                 7|            2019-03-14|59549b05-8baf-4ac...|2020-11-17 23:47:...|      7|2019-03-14|       2|  NEW YORK|         NY|   XXXXXX|      11|166.25|  I|\n",
      "|     20201117235041|  20201117235041_1_1|                 6|            2019-03-18|8f1af2ad-32a4-44f...|2020-11-17 23:47:...|      6|2019-03-18|       1|   CHICAGO|         IL|   XXXXXX|      10|156.25|  I|\n",
      "+-------------------+--------------------+------------------+----------------------+--------------------+--------------------+-------+----------+--------+----------+-----------+---------+--------+------+---+"
     ]
    }
   ],
   "source": [
    "readOptions = {\n",
    "  'hoodie.datasource.query.type': 'incremental',\n",
    "  'hoodie.datasource.read.begin.instanttime': 20201117201857,\n",
    "}\n",
    "\n",
    "incQueryDF = spark.read.format('org.apache.hudi').options(**readOptions).load('s3://md-labs-hudi-demo-data-bucket/hudi/retail_transactions')\n",
    "    \n",
    "incQueryDF.show()"
   ]
  },
  {
   "cell_type": "code",
   "execution_count": null,
   "metadata": {},
   "outputs": [],
   "source": []
  }
 ],
 "metadata": {
  "kernelspec": {
   "display_name": "PySpark",
   "language": "",
   "name": "pysparkkernel"
  },
  "language_info": {
   "codemirror_mode": {
    "name": "python",
    "version": 3
   },
   "mimetype": "text/x-python",
   "name": "pyspark",
   "pygments_lexer": "python3"
  }
 },
 "nbformat": 4,
 "nbformat_minor": 4
}
